{
 "cells": [
  {
   "cell_type": "code",
   "execution_count": null,
   "id": "babe343a-c36b-498b-9b60-d45e7e004b09",
   "metadata": {},
   "outputs": [],
   "source": [
    "import pickle\n",
    "import numpy as np\n",
    "\n",
    "with open('medical_imaging_training.pkl', 'rb') as f:\n",
    "    arr_list = np.array(pickle.load(f))\n",
    "\n",
    "with open('medical_imaging_classifications.pkl', 'rb') as f:\n",
    "    labels_np = np.array(pickle.load(f))\n",
    "\n",
    "with open('medical_imaging_testing.pkl', 'rb') as f:\n",
    "    test_list = np.array(pickle.load(f))\n",
    "\n",
    "with open(\"training.txt\", \"w\") as file:\n",
    "    file.write(np.array2string(arr_list, threshold = 10000000000000000))"
   ]
  },
  {
   "cell_type": "code",
   "execution_count": 2,
   "id": "8bb431b7-d74b-4579-9e1c-fbdfc305c985",
   "metadata": {},
   "outputs": [
    {
     "name": "stdout",
     "output_type": "stream",
     "text": [
      "(48692, 100, 100)\n",
      "(48692, 25)\n",
      "(97, 100, 100)\n"
     ]
    }
   ],
   "source": [
    "print(arr_list.shape)\n",
    "print(labels_np.shape)\n",
    "print(test_list.shape)"
   ]
  },
  {
   "cell_type": "code",
   "execution_count": 3,
   "id": "ad0f46a4-7f0a-4d28-b42b-4615161fc97d",
   "metadata": {
    "editable": true,
    "slideshow": {
     "slide_type": ""
    },
    "tags": []
   },
   "outputs": [
    {
     "name": "stderr",
     "output_type": "stream",
     "text": [
      "2025-05-20 11:21:21.011821: I tensorflow/core/util/port.cc:113] oneDNN custom operations are on. You may see slightly different numerical results due to floating-point round-off errors from different computation orders. To turn them off, set the environment variable `TF_ENABLE_ONEDNN_OPTS=0`.\n",
      "2025-05-20 11:21:21.056131: E external/local_xla/xla/stream_executor/cuda/cuda_dnn.cc:9261] Unable to register cuDNN factory: Attempting to register factory for plugin cuDNN when one has already been registered\n",
      "2025-05-20 11:21:21.056162: E external/local_xla/xla/stream_executor/cuda/cuda_fft.cc:607] Unable to register cuFFT factory: Attempting to register factory for plugin cuFFT when one has already been registered\n",
      "2025-05-20 11:21:21.057256: E external/local_xla/xla/stream_executor/cuda/cuda_blas.cc:1515] Unable to register cuBLAS factory: Attempting to register factory for plugin cuBLAS when one has already been registered\n",
      "2025-05-20 11:21:21.064292: I tensorflow/core/platform/cpu_feature_guard.cc:182] This TensorFlow binary is optimized to use available CPU instructions in performance-critical operations.\n",
      "To enable the following instructions: AVX2 AVX512F AVX512_VNNI FMA, in other operations, rebuild TensorFlow with the appropriate compiler flags.\n",
      "2025-05-20 11:21:21.829932: W tensorflow/compiler/tf2tensorrt/utils/py_utils.cc:38] TF-TRT Warning: Could not find TensorRT\n"
     ]
    },
    {
     "name": "stdout",
     "output_type": "stream",
     "text": [
      "Training image shape: (38953, 100, 100, 1)\n",
      "Validation image shape: (9739, 100, 100, 1)\n"
     ]
    }
   ],
   "source": [
    "import tensorflow as tf\n",
    "import numpy as np\n",
    "from tensorflow.keras import Sequential\n",
    "from tensorflow.keras.layers import Conv2D, MaxPooling2D, Flatten, Dense, Reshape\n",
    "from tensorflow.keras import layers, models, regularizers\n",
    "from tensorflow.keras.preprocessing.image import ImageDataGenerator\n",
    "\n",
    "split_idx = int(len(arr_list) * 0.8)\n",
    "training_images = arr_list[:split_idx]\n",
    "training_labels = labels_np[:split_idx]\n",
    "validation_images = arr_list[split_idx:]\n",
    "validation_labels = labels_np[split_idx:]\n",
    "\n",
    "training_images = np.expand_dims(training_images, axis=-1)\n",
    "validation_images = np.expand_dims(validation_images, axis=-1)\n",
    "\n",
    "##datagen = ImageDataGenerator(\n",
    "##    rotation_range=20,\n",
    "##    width_shift_range=0.2,\n",
    "##    height_shift_range=0.2,\n",
    "##    shear_range=0.2,\n",
    "##    zoom_range=0.2,\n",
    "##    horizontal_flip=True,\n",
    "##    fill_mode='nearest'\n",
    "##)\n",
    "\n",
    "print(f\"Training image shape: {training_images.shape}\")\n",
    "print(f\"Validation image shape: {validation_images.shape}\")"
   ]
  },
  {
   "cell_type": "code",
   "execution_count": 4,
   "id": "5e91aa0d-534b-4c90-b29a-05f163c3089c",
   "metadata": {},
   "outputs": [
    {
     "name": "stderr",
     "output_type": "stream",
     "text": [
      "2025-05-20 11:21:22.954308: W tensorflow/core/common_runtime/gpu/gpu_device.cc:2256] Cannot dlopen some GPU libraries. Please make sure the missing libraries mentioned above are installed properly if you would like to use GPU. Follow the guide at https://www.tensorflow.org/install/gpu for how to download and setup the required libraries for your platform.\n",
      "Skipping registering GPU devices...\n"
     ]
    }
   ],
   "source": [
    "labels = [\n",
    "    \"spinal_canal_stenosis_l1_l2\",\n",
    "    \"spinal_canal_stenosis_l2_l3\",\n",
    "    \"spinal_canal_stenosis_l3_l4\",\n",
    "    \"spinal_canal_stenosis_l4_l5\",\n",
    "    \"spinal_canal_stenosis_l5_s1\",\n",
    "    \"left_neural_foraminal_narrowing_l1_l2\",\n",
    "    \"left_neural_foraminal_narrowing_l2_l3\",\n",
    "    \"left_neural_foraminal_narrowing_l3_l4\",\n",
    "    \"left_neural_foraminal_narrowing_l4_l5\",\n",
    "    \"left_neural_foraminal_narrowing_l5_s1\",\n",
    "    \"right_neural_foraminal_narrowing_l1_l2\",\n",
    "    \"right_neural_foraminal_narrowing_l2_l3\",\n",
    "    \"right_neural_foraminal_narrowing_l3_l4\",\n",
    "    \"right_neural_foraminal_narrowing_l4_l5\",\n",
    "    \"right_neural_foraminal_narrowing_l5_s1\",\n",
    "    \"left_subarticular_stenosis_l1_l2\",\n",
    "    \"left_subarticular_stenosis_l2_l3\",\n",
    "    \"left_subarticular_stenosis_l3_l4\",\n",
    "    \"left_subarticular_stenosis_l4_l5\",\n",
    "    \"left_subarticular_stenosis_l5_s1\",\n",
    "    \"right_subarticular_stenosis_l1_l2\",\n",
    "    \"right_subarticular_stenosis_l2_l3\",\n",
    "    \"right_subarticular_stenosis_l3_l4\",\n",
    "    \"right_subarticular_stenosis_l4_l5\",\n",
    "    \"right_subarticular_stenosis_l5_s1\"\n",
    "]\n",
    "\n",
    "from tensorflow.keras.layers import Input, Conv2D, MaxPooling2D, Flatten, Dense\n",
    "from tensorflow.keras.models import Model\n",
    "\n",
    "input_layer = Input(shape=(100,100,1))\n",
    "\n",
    "x = Conv2D(16, (3,3), activation='relu')(input_layer)\n",
    "x = MaxPooling2D((2,2))(x)\n",
    "\n",
    "x = Conv2D(32, (3,3), activation='relu')(x)\n",
    "x = MaxPooling2D((2,2))(x)\n",
    "\n",
    "x = Conv2D(64, (3,3), activation='relu')(x)\n",
    "x = MaxPooling2D((2,2))(x)\n",
    "\n",
    "x = Conv2D(64, (3,3), activation='relu')(x)\n",
    "x = MaxPooling2D((2,2))(x)\n",
    "\n",
    "x = Flatten()(x)\n",
    "x = Dense(256, activation='relu')(x)\n",
    "\n",
    "outputs = [Dense(3, activation='softmax', name=i)(x) for i in labels]\n",
    "\n",
    "model = Model(inputs=input_layer, outputs=outputs)"
   ]
  },
  {
   "cell_type": "code",
   "execution_count": 5,
   "id": "704a0858-1ca1-4608-b26b-683716578aed",
   "metadata": {},
   "outputs": [
    {
     "name": "stdout",
     "output_type": "stream",
     "text": [
      "Epoch 1/10\n",
      "195/195 [==============================] - 22s 82ms/step - loss: 24.9653 - spinal_canal_stenosis_l1_l2_loss: 0.4495 - spinal_canal_stenosis_l2_l3_loss: 0.6692 - spinal_canal_stenosis_l3_l4_loss: 0.9864 - spinal_canal_stenosis_l4_l5_loss: 0.9913 - spinal_canal_stenosis_l5_s1_loss: 0.4518 - left_neural_foraminal_narrowing_l1_l2_loss: 0.2953 - left_neural_foraminal_narrowing_l2_l3_loss: 0.8242 - left_neural_foraminal_narrowing_l3_l4_loss: 1.0441 - left_neural_foraminal_narrowing_l4_l5_loss: 1.3547 - left_neural_foraminal_narrowing_l5_s1_loss: 1.5540 - right_neural_foraminal_narrowing_l1_l2_loss: 0.4499 - right_neural_foraminal_narrowing_l2_l3_loss: 1.1500 - right_neural_foraminal_narrowing_l3_l4_loss: 0.9154 - right_neural_foraminal_narrowing_l4_l5_loss: 1.2329 - right_neural_foraminal_narrowing_l5_s1_loss: 1.2636 - left_subarticular_stenosis_l1_l2_loss: 0.4880 - left_subarticular_stenosis_l2_l3_loss: 1.1341 - left_subarticular_stenosis_l3_l4_loss: 1.1417 - left_subarticular_stenosis_l4_l5_loss: 1.4858 - left_subarticular_stenosis_l5_s1_loss: 1.0120 - right_subarticular_stenosis_l1_l2_loss: 0.8224 - right_subarticular_stenosis_l2_l3_loss: 0.8579 - right_subarticular_stenosis_l3_l4_loss: 1.6405 - right_subarticular_stenosis_l4_l5_loss: 1.5948 - right_subarticular_stenosis_l5_s1_loss: 1.1562 - spinal_canal_stenosis_l1_l2_accuracy: 0.9386 - spinal_canal_stenosis_l2_l3_accuracy: 0.8885 - spinal_canal_stenosis_l3_l4_accuracy: 0.8083 - spinal_canal_stenosis_l4_l5_accuracy: 0.7308 - spinal_canal_stenosis_l5_s1_accuracy: 0.9535 - left_neural_foraminal_narrowing_l1_l2_accuracy: 0.9624 - left_neural_foraminal_narrowing_l2_l3_accuracy: 0.8978 - left_neural_foraminal_narrowing_l3_l4_accuracy: 0.7380 - left_neural_foraminal_narrowing_l4_l5_accuracy: 0.5714 - left_neural_foraminal_narrowing_l5_s1_accuracy: 0.5959 - right_neural_foraminal_narrowing_l1_l2_accuracy: 0.9452 - right_neural_foraminal_narrowing_l2_l3_accuracy: 0.8940 - right_neural_foraminal_narrowing_l3_l4_accuracy: 0.7476 - right_neural_foraminal_narrowing_l4_l5_accuracy: 0.5732 - right_neural_foraminal_narrowing_l5_s1_accuracy: 0.6159 - left_subarticular_stenosis_l1_l2_accuracy: 0.9246 - left_subarticular_stenosis_l2_l3_accuracy: 0.8049 - left_subarticular_stenosis_l3_l4_accuracy: 0.6505 - left_subarticular_stenosis_l4_l5_accuracy: 0.4095 - left_subarticular_stenosis_l5_s1_accuracy: 0.6888 - right_subarticular_stenosis_l1_l2_accuracy: 0.9233 - right_subarticular_stenosis_l2_l3_accuracy: 0.8196 - right_subarticular_stenosis_l3_l4_accuracy: 0.6312 - right_subarticular_stenosis_l4_l5_accuracy: 0.4094 - right_subarticular_stenosis_l5_s1_accuracy: 0.6794 - val_loss: 15.7621 - val_spinal_canal_stenosis_l1_l2_loss: 0.2743 - val_spinal_canal_stenosis_l2_l3_loss: 0.5268 - val_spinal_canal_stenosis_l3_l4_loss: 0.6214 - val_spinal_canal_stenosis_l4_l5_loss: 0.7622 - val_spinal_canal_stenosis_l5_s1_loss: 0.2432 - val_left_neural_foraminal_narrowing_l1_l2_loss: 0.1729 - val_left_neural_foraminal_narrowing_l2_l3_loss: 0.3696 - val_left_neural_foraminal_narrowing_l3_l4_loss: 0.6148 - val_left_neural_foraminal_narrowing_l4_l5_loss: 0.8694 - val_left_neural_foraminal_narrowing_l5_s1_loss: 0.8872 - val_right_neural_foraminal_narrowing_l1_l2_loss: 0.2129 - val_right_neural_foraminal_narrowing_l2_l3_loss: 0.3906 - val_right_neural_foraminal_narrowing_l3_l4_loss: 0.6557 - val_right_neural_foraminal_narrowing_l4_l5_loss: 0.8701 - val_right_neural_foraminal_narrowing_l5_s1_loss: 0.8918 - val_left_subarticular_stenosis_l1_l2_loss: 0.3328 - val_left_subarticular_stenosis_l2_l3_loss: 0.6742 - val_left_subarticular_stenosis_l3_l4_loss: 0.8802 - val_left_subarticular_stenosis_l4_l5_loss: 1.0741 - val_left_subarticular_stenosis_l5_s1_loss: 0.8037 - val_right_subarticular_stenosis_l1_l2_loss: 0.3827 - val_right_subarticular_stenosis_l2_l3_loss: 0.5680 - val_right_subarticular_stenosis_l3_l4_loss: 0.8444 - val_right_subarticular_stenosis_l4_l5_loss: 1.0630 - val_right_subarticular_stenosis_l5_s1_loss: 0.7763 - val_spinal_canal_stenosis_l1_l2_accuracy: 0.9512 - val_spinal_canal_stenosis_l2_l3_accuracy: 0.8833 - val_spinal_canal_stenosis_l3_l4_accuracy: 0.8320 - val_spinal_canal_stenosis_l4_l5_accuracy: 0.7620 - val_spinal_canal_stenosis_l5_s1_accuracy: 0.9645 - val_left_neural_foraminal_narrowing_l1_l2_accuracy: 0.9718 - val_left_neural_foraminal_narrowing_l2_l3_accuracy: 0.9030 - val_left_neural_foraminal_narrowing_l3_l4_accuracy: 0.7942 - val_left_neural_foraminal_narrowing_l4_l5_accuracy: 0.6371 - val_left_neural_foraminal_narrowing_l5_s1_accuracy: 0.6486 - val_right_neural_foraminal_narrowing_l1_l2_accuracy: 0.9666 - val_right_neural_foraminal_narrowing_l2_l3_accuracy: 0.9084 - val_right_neural_foraminal_narrowing_l3_l4_accuracy: 0.7802 - val_right_neural_foraminal_narrowing_l4_l5_accuracy: 0.6549 - val_right_neural_foraminal_narrowing_l5_s1_accuracy: 0.6508 - val_left_subarticular_stenosis_l1_l2_accuracy: 0.9309 - val_left_subarticular_stenosis_l2_l3_accuracy: 0.8215 - val_left_subarticular_stenosis_l3_l4_accuracy: 0.6793 - val_left_subarticular_stenosis_l4_l5_accuracy: 0.4487 - val_left_subarticular_stenosis_l5_s1_accuracy: 0.7208 - val_right_subarticular_stenosis_l1_l2_accuracy: 0.9129 - val_right_subarticular_stenosis_l2_l3_accuracy: 0.8311 - val_right_subarticular_stenosis_l3_l4_accuracy: 0.7053 - val_right_subarticular_stenosis_l4_l5_accuracy: 0.4660 - val_right_subarticular_stenosis_l5_s1_accuracy: 0.7427\n",
      "Epoch 2/10\n",
      "195/195 [==============================] - 14s 73ms/step - loss: 14.9988 - spinal_canal_stenosis_l1_l2_loss: 0.2252 - spinal_canal_stenosis_l2_l3_loss: 0.3963 - spinal_canal_stenosis_l3_l4_loss: 0.5949 - spinal_canal_stenosis_l4_l5_loss: 0.7413 - spinal_canal_stenosis_l5_s1_loss: 0.2065 - left_neural_foraminal_narrowing_l1_l2_loss: 0.1738 - left_neural_foraminal_narrowing_l2_l3_loss: 0.3437 - left_neural_foraminal_narrowing_l3_l4_loss: 0.6312 - left_neural_foraminal_narrowing_l4_l5_loss: 0.8756 - left_neural_foraminal_narrowing_l5_s1_loss: 0.8924 - right_neural_foraminal_narrowing_l1_l2_loss: 0.2061 - right_neural_foraminal_narrowing_l2_l3_loss: 0.3403 - right_neural_foraminal_narrowing_l3_l4_loss: 0.6183 - right_neural_foraminal_narrowing_l4_l5_loss: 0.8551 - right_neural_foraminal_narrowing_l5_s1_loss: 0.8623 - left_subarticular_stenosis_l1_l2_loss: 0.2768 - left_subarticular_stenosis_l2_l3_loss: 0.5642 - left_subarticular_stenosis_l3_l4_loss: 0.8223 - left_subarticular_stenosis_l4_l5_loss: 1.0622 - left_subarticular_stenosis_l5_s1_loss: 0.7733 - right_subarticular_stenosis_l1_l2_loss: 0.2825 - right_subarticular_stenosis_l2_l3_loss: 0.5418 - right_subarticular_stenosis_l3_l4_loss: 0.8510 - right_subarticular_stenosis_l4_l5_loss: 1.0627 - right_subarticular_stenosis_l5_s1_loss: 0.7988 - spinal_canal_stenosis_l1_l2_accuracy: 0.9563 - spinal_canal_stenosis_l2_l3_accuracy: 0.8995 - spinal_canal_stenosis_l3_l4_accuracy: 0.8199 - spinal_canal_stenosis_l4_l5_accuracy: 0.7489 - spinal_canal_stenosis_l5_s1_accuracy: 0.9644 - left_neural_foraminal_narrowing_l1_l2_accuracy: 0.9654 - left_neural_foraminal_narrowing_l2_l3_accuracy: 0.9089 - left_neural_foraminal_narrowing_l3_l4_accuracy: 0.7664 - left_neural_foraminal_narrowing_l4_l5_accuracy: 0.6052 - left_neural_foraminal_narrowing_l5_s1_accuracy: 0.6294 - right_neural_foraminal_narrowing_l1_l2_accuracy: 0.9600 - right_neural_foraminal_narrowing_l2_l3_accuracy: 0.9134 - right_neural_foraminal_narrowing_l3_l4_accuracy: 0.7675 - right_neural_foraminal_narrowing_l4_l5_accuracy: 0.6070 - right_neural_foraminal_narrowing_l5_s1_accuracy: 0.6540 - left_subarticular_stenosis_l1_l2_accuracy: 0.9401 - left_subarticular_stenosis_l2_l3_accuracy: 0.8299 - left_subarticular_stenosis_l3_l4_accuracy: 0.6715 - left_subarticular_stenosis_l4_l5_accuracy: 0.4465 - left_subarticular_stenosis_l5_s1_accuracy: 0.7171 - right_subarticular_stenosis_l1_l2_accuracy: 0.9362 - right_subarticular_stenosis_l2_l3_accuracy: 0.8415 - right_subarticular_stenosis_l3_l4_accuracy: 0.6618 - right_subarticular_stenosis_l4_l5_accuracy: 0.4480 - right_subarticular_stenosis_l5_s1_accuracy: 0.7029 - val_loss: 14.6215 - val_spinal_canal_stenosis_l1_l2_loss: 0.2317 - val_spinal_canal_stenosis_l2_l3_loss: 0.4418 - val_spinal_canal_stenosis_l3_l4_loss: 0.5592 - val_spinal_canal_stenosis_l4_l5_loss: 0.7127 - val_spinal_canal_stenosis_l5_s1_loss: 0.1900 - val_left_neural_foraminal_narrowing_l1_l2_loss: 0.1359 - val_left_neural_foraminal_narrowing_l2_l3_loss: 0.3359 - val_left_neural_foraminal_narrowing_l3_l4_loss: 0.5624 - val_left_neural_foraminal_narrowing_l4_l5_loss: 0.8175 - val_left_neural_foraminal_narrowing_l5_s1_loss: 0.8385 - val_right_neural_foraminal_narrowing_l1_l2_loss: 0.1654 - val_right_neural_foraminal_narrowing_l2_l3_loss: 0.3305 - val_right_neural_foraminal_narrowing_l3_l4_loss: 0.6089 - val_right_neural_foraminal_narrowing_l4_l5_loss: 0.8397 - val_right_neural_foraminal_narrowing_l5_s1_loss: 0.8500 - val_left_subarticular_stenosis_l1_l2_loss: 0.2860 - val_left_subarticular_stenosis_l2_l3_loss: 0.5995 - val_left_subarticular_stenosis_l3_l4_loss: 0.8531 - val_left_subarticular_stenosis_l4_l5_loss: 1.0587 - val_left_subarticular_stenosis_l5_s1_loss: 0.7667 - val_right_subarticular_stenosis_l1_l2_loss: 0.3454 - val_right_subarticular_stenosis_l2_l3_loss: 0.5227 - val_right_subarticular_stenosis_l3_l4_loss: 0.7899 - val_right_subarticular_stenosis_l4_l5_loss: 1.0476 - val_right_subarticular_stenosis_l5_s1_loss: 0.7320 - val_spinal_canal_stenosis_l1_l2_accuracy: 0.9512 - val_spinal_canal_stenosis_l2_l3_accuracy: 0.8833 - val_spinal_canal_stenosis_l3_l4_accuracy: 0.8320 - val_spinal_canal_stenosis_l4_l5_accuracy: 0.7625 - val_spinal_canal_stenosis_l5_s1_accuracy: 0.9645 - val_left_neural_foraminal_narrowing_l1_l2_accuracy: 0.9718 - val_left_neural_foraminal_narrowing_l2_l3_accuracy: 0.9030 - val_left_neural_foraminal_narrowing_l3_l4_accuracy: 0.7943 - val_left_neural_foraminal_narrowing_l4_l5_accuracy: 0.6395 - val_left_neural_foraminal_narrowing_l5_s1_accuracy: 0.6483 - val_right_neural_foraminal_narrowing_l1_l2_accuracy: 0.9666 - val_right_neural_foraminal_narrowing_l2_l3_accuracy: 0.9084 - val_right_neural_foraminal_narrowing_l3_l4_accuracy: 0.7806 - val_right_neural_foraminal_narrowing_l4_l5_accuracy: 0.6557 - val_right_neural_foraminal_narrowing_l5_s1_accuracy: 0.6511 - val_left_subarticular_stenosis_l1_l2_accuracy: 0.9309 - val_left_subarticular_stenosis_l2_l3_accuracy: 0.8216 - val_left_subarticular_stenosis_l3_l4_accuracy: 0.6797 - val_left_subarticular_stenosis_l4_l5_accuracy: 0.4684 - val_left_subarticular_stenosis_l5_s1_accuracy: 0.7208 - val_right_subarticular_stenosis_l1_l2_accuracy: 0.9129 - val_right_subarticular_stenosis_l2_l3_accuracy: 0.8312 - val_right_subarticular_stenosis_l3_l4_accuracy: 0.7057 - val_right_subarticular_stenosis_l4_l5_accuracy: 0.4674 - val_right_subarticular_stenosis_l5_s1_accuracy: 0.7428\n",
      "Epoch 3/10\n",
      "195/195 [==============================] - 14s 73ms/step - loss: 14.5613 - spinal_canal_stenosis_l1_l2_loss: 0.2035 - spinal_canal_stenosis_l2_l3_loss: 0.3785 - spinal_canal_stenosis_l3_l4_loss: 0.5774 - spinal_canal_stenosis_l4_l5_loss: 0.7284 - spinal_canal_stenosis_l5_s1_loss: 0.1802 - left_neural_foraminal_narrowing_l1_l2_loss: 0.1569 - left_neural_foraminal_narrowing_l2_l3_loss: 0.3243 - left_neural_foraminal_narrowing_l3_l4_loss: 0.6131 - left_neural_foraminal_narrowing_l4_l5_loss: 0.8573 - left_neural_foraminal_narrowing_l5_s1_loss: 0.8804 - right_neural_foraminal_narrowing_l1_l2_loss: 0.1843 - right_neural_foraminal_narrowing_l2_l3_loss: 0.3094 - right_neural_foraminal_narrowing_l3_l4_loss: 0.6025 - right_neural_foraminal_narrowing_l4_l5_loss: 0.8384 - right_neural_foraminal_narrowing_l5_s1_loss: 0.8457 - left_subarticular_stenosis_l1_l2_loss: 0.2569 - left_subarticular_stenosis_l2_l3_loss: 0.5415 - left_subarticular_stenosis_l3_l4_loss: 0.8144 - left_subarticular_stenosis_l4_l5_loss: 1.0558 - left_subarticular_stenosis_l5_s1_loss: 0.7532 - right_subarticular_stenosis_l1_l2_loss: 0.2630 - right_subarticular_stenosis_l2_l3_loss: 0.5199 - right_subarticular_stenosis_l3_l4_loss: 0.8361 - right_subarticular_stenosis_l4_l5_loss: 1.0551 - right_subarticular_stenosis_l5_s1_loss: 0.7850 - spinal_canal_stenosis_l1_l2_accuracy: 0.9563 - spinal_canal_stenosis_l2_l3_accuracy: 0.8995 - spinal_canal_stenosis_l3_l4_accuracy: 0.8199 - spinal_canal_stenosis_l4_l5_accuracy: 0.7489 - spinal_canal_stenosis_l5_s1_accuracy: 0.9645 - left_neural_foraminal_narrowing_l1_l2_accuracy: 0.9654 - left_neural_foraminal_narrowing_l2_l3_accuracy: 0.9089 - left_neural_foraminal_narrowing_l3_l4_accuracy: 0.7665 - left_neural_foraminal_narrowing_l4_l5_accuracy: 0.6052 - left_neural_foraminal_narrowing_l5_s1_accuracy: 0.6299 - right_neural_foraminal_narrowing_l1_l2_accuracy: 0.9600 - right_neural_foraminal_narrowing_l2_l3_accuracy: 0.9134 - right_neural_foraminal_narrowing_l3_l4_accuracy: 0.7676 - right_neural_foraminal_narrowing_l4_l5_accuracy: 0.6076 - right_neural_foraminal_narrowing_l5_s1_accuracy: 0.6540 - left_subarticular_stenosis_l1_l2_accuracy: 0.9401 - left_subarticular_stenosis_l2_l3_accuracy: 0.8299 - left_subarticular_stenosis_l3_l4_accuracy: 0.6715 - left_subarticular_stenosis_l4_l5_accuracy: 0.4481 - left_subarticular_stenosis_l5_s1_accuracy: 0.7172 - right_subarticular_stenosis_l1_l2_accuracy: 0.9362 - right_subarticular_stenosis_l2_l3_accuracy: 0.8415 - right_subarticular_stenosis_l3_l4_accuracy: 0.6618 - right_subarticular_stenosis_l4_l5_accuracy: 0.4487 - right_subarticular_stenosis_l5_s1_accuracy: 0.7034 - val_loss: 14.4991 - val_spinal_canal_stenosis_l1_l2_loss: 0.2220 - val_spinal_canal_stenosis_l2_l3_loss: 0.4346 - val_spinal_canal_stenosis_l3_l4_loss: 0.5562 - val_spinal_canal_stenosis_l4_l5_loss: 0.7074 - val_spinal_canal_stenosis_l5_s1_loss: 0.1728 - val_left_neural_foraminal_narrowing_l1_l2_loss: 0.1310 - val_left_neural_foraminal_narrowing_l2_l3_loss: 0.3272 - val_left_neural_foraminal_narrowing_l3_l4_loss: 0.5534 - val_left_neural_foraminal_narrowing_l4_l5_loss: 0.8139 - val_left_neural_foraminal_narrowing_l5_s1_loss: 0.8382 - val_right_neural_foraminal_narrowing_l1_l2_loss: 0.1706 - val_right_neural_foraminal_narrowing_l2_l3_loss: 0.3268 - val_right_neural_foraminal_narrowing_l3_l4_loss: 0.6052 - val_right_neural_foraminal_narrowing_l4_l5_loss: 0.8315 - val_right_neural_foraminal_narrowing_l5_s1_loss: 0.8477 - val_left_subarticular_stenosis_l1_l2_loss: 0.2793 - val_left_subarticular_stenosis_l2_l3_loss: 0.5966 - val_left_subarticular_stenosis_l3_l4_loss: 0.8497 - val_left_subarticular_stenosis_l4_l5_loss: 1.0536 - val_left_subarticular_stenosis_l5_s1_loss: 0.7654 - val_right_subarticular_stenosis_l1_l2_loss: 0.3348 - val_right_subarticular_stenosis_l2_l3_loss: 0.5181 - val_right_subarticular_stenosis_l3_l4_loss: 0.7857 - val_right_subarticular_stenosis_l4_l5_loss: 1.0495 - val_right_subarticular_stenosis_l5_s1_loss: 0.7276 - val_spinal_canal_stenosis_l1_l2_accuracy: 0.9512 - val_spinal_canal_stenosis_l2_l3_accuracy: 0.8833 - val_spinal_canal_stenosis_l3_l4_accuracy: 0.8318 - val_spinal_canal_stenosis_l4_l5_accuracy: 0.7624 - val_spinal_canal_stenosis_l5_s1_accuracy: 0.9645 - val_left_neural_foraminal_narrowing_l1_l2_accuracy: 0.9718 - val_left_neural_foraminal_narrowing_l2_l3_accuracy: 0.9030 - val_left_neural_foraminal_narrowing_l3_l4_accuracy: 0.7941 - val_left_neural_foraminal_narrowing_l4_l5_accuracy: 0.6392 - val_left_neural_foraminal_narrowing_l5_s1_accuracy: 0.6486 - val_right_neural_foraminal_narrowing_l1_l2_accuracy: 0.9665 - val_right_neural_foraminal_narrowing_l2_l3_accuracy: 0.9086 - val_right_neural_foraminal_narrowing_l3_l4_accuracy: 0.7806 - val_right_neural_foraminal_narrowing_l4_l5_accuracy: 0.6554 - val_right_neural_foraminal_narrowing_l5_s1_accuracy: 0.6511 - val_left_subarticular_stenosis_l1_l2_accuracy: 0.9309 - val_left_subarticular_stenosis_l2_l3_accuracy: 0.8217 - val_left_subarticular_stenosis_l3_l4_accuracy: 0.6796 - val_left_subarticular_stenosis_l4_l5_accuracy: 0.4694 - val_left_subarticular_stenosis_l5_s1_accuracy: 0.7209 - val_right_subarticular_stenosis_l1_l2_accuracy: 0.9129 - val_right_subarticular_stenosis_l2_l3_accuracy: 0.8311 - val_right_subarticular_stenosis_l3_l4_accuracy: 0.7057 - val_right_subarticular_stenosis_l4_l5_accuracy: 0.4678 - val_right_subarticular_stenosis_l5_s1_accuracy: 0.7428\n",
      "Epoch 4/10\n",
      "195/195 [==============================] - 14s 72ms/step - loss: 14.4851 - spinal_canal_stenosis_l1_l2_loss: 0.1995 - spinal_canal_stenosis_l2_l3_loss: 0.3754 - spinal_canal_stenosis_l3_l4_loss: 0.5752 - spinal_canal_stenosis_l4_l5_loss: 0.7252 - spinal_canal_stenosis_l5_s1_loss: 0.1754 - left_neural_foraminal_narrowing_l1_l2_loss: 0.1549 - left_neural_foraminal_narrowing_l2_l3_loss: 0.3207 - left_neural_foraminal_narrowing_l3_l4_loss: 0.6095 - left_neural_foraminal_narrowing_l4_l5_loss: 0.8547 - left_neural_foraminal_narrowing_l5_s1_loss: 0.8785 - right_neural_foraminal_narrowing_l1_l2_loss: 0.1819 - right_neural_foraminal_narrowing_l2_l3_loss: 0.3036 - right_neural_foraminal_narrowing_l3_l4_loss: 0.5991 - right_neural_foraminal_narrowing_l4_l5_loss: 0.8355 - right_neural_foraminal_narrowing_l5_s1_loss: 0.8439 - left_subarticular_stenosis_l1_l2_loss: 0.2542 - left_subarticular_stenosis_l2_l3_loss: 0.5393 - left_subarticular_stenosis_l3_l4_loss: 0.8111 - left_subarticular_stenosis_l4_l5_loss: 1.0534 - left_subarticular_stenosis_l5_s1_loss: 0.7506 - right_subarticular_stenosis_l1_l2_loss: 0.2602 - right_subarticular_stenosis_l2_l3_loss: 0.5169 - right_subarticular_stenosis_l3_l4_loss: 0.8322 - right_subarticular_stenosis_l4_l5_loss: 1.0513 - right_subarticular_stenosis_l5_s1_loss: 0.7827 - spinal_canal_stenosis_l1_l2_accuracy: 0.9563 - spinal_canal_stenosis_l2_l3_accuracy: 0.8994 - spinal_canal_stenosis_l3_l4_accuracy: 0.8199 - spinal_canal_stenosis_l4_l5_accuracy: 0.7488 - spinal_canal_stenosis_l5_s1_accuracy: 0.9644 - left_neural_foraminal_narrowing_l1_l2_accuracy: 0.9654 - left_neural_foraminal_narrowing_l2_l3_accuracy: 0.9089 - left_neural_foraminal_narrowing_l3_l4_accuracy: 0.7668 - left_neural_foraminal_narrowing_l4_l5_accuracy: 0.6052 - left_neural_foraminal_narrowing_l5_s1_accuracy: 0.6299 - right_neural_foraminal_narrowing_l1_l2_accuracy: 0.9601 - right_neural_foraminal_narrowing_l2_l3_accuracy: 0.9133 - right_neural_foraminal_narrowing_l3_l4_accuracy: 0.7675 - right_neural_foraminal_narrowing_l4_l5_accuracy: 0.6074 - right_neural_foraminal_narrowing_l5_s1_accuracy: 0.6540 - left_subarticular_stenosis_l1_l2_accuracy: 0.9401 - left_subarticular_stenosis_l2_l3_accuracy: 0.8298 - left_subarticular_stenosis_l3_l4_accuracy: 0.6716 - left_subarticular_stenosis_l4_l5_accuracy: 0.4482 - left_subarticular_stenosis_l5_s1_accuracy: 0.7173 - right_subarticular_stenosis_l1_l2_accuracy: 0.9363 - right_subarticular_stenosis_l2_l3_accuracy: 0.8414 - right_subarticular_stenosis_l3_l4_accuracy: 0.6620 - right_subarticular_stenosis_l4_l5_accuracy: 0.4491 - right_subarticular_stenosis_l5_s1_accuracy: 0.7032 - val_loss: 14.4641 - val_spinal_canal_stenosis_l1_l2_loss: 0.2183 - val_spinal_canal_stenosis_l2_l3_loss: 0.4286 - val_spinal_canal_stenosis_l3_l4_loss: 0.5547 - val_spinal_canal_stenosis_l4_l5_loss: 0.7071 - val_spinal_canal_stenosis_l5_s1_loss: 0.1719 - val_left_neural_foraminal_narrowing_l1_l2_loss: 0.1295 - val_left_neural_foraminal_narrowing_l2_l3_loss: 0.3287 - val_left_neural_foraminal_narrowing_l3_l4_loss: 0.5569 - val_left_neural_foraminal_narrowing_l4_l5_loss: 0.8141 - val_left_neural_foraminal_narrowing_l5_s1_loss: 0.8394 - val_right_neural_foraminal_narrowing_l1_l2_loss: 0.1631 - val_right_neural_foraminal_narrowing_l2_l3_loss: 0.3234 - val_right_neural_foraminal_narrowing_l3_l4_loss: 0.6034 - val_right_neural_foraminal_narrowing_l4_l5_loss: 0.8313 - val_right_neural_foraminal_narrowing_l5_s1_loss: 0.8459 - val_left_subarticular_stenosis_l1_l2_loss: 0.2786 - val_left_subarticular_stenosis_l2_l3_loss: 0.5880 - val_left_subarticular_stenosis_l3_l4_loss: 0.8491 - val_left_subarticular_stenosis_l4_l5_loss: 1.0522 - val_left_subarticular_stenosis_l5_s1_loss: 0.7666 - val_right_subarticular_stenosis_l1_l2_loss: 0.3340 - val_right_subarticular_stenosis_l2_l3_loss: 0.5157 - val_right_subarticular_stenosis_l3_l4_loss: 0.7870 - val_right_subarticular_stenosis_l4_l5_loss: 1.0470 - val_right_subarticular_stenosis_l5_s1_loss: 0.7294 - val_spinal_canal_stenosis_l1_l2_accuracy: 0.9512 - val_spinal_canal_stenosis_l2_l3_accuracy: 0.8833 - val_spinal_canal_stenosis_l3_l4_accuracy: 0.8320 - val_spinal_canal_stenosis_l4_l5_accuracy: 0.7625 - val_spinal_canal_stenosis_l5_s1_accuracy: 0.9645 - val_left_neural_foraminal_narrowing_l1_l2_accuracy: 0.9718 - val_left_neural_foraminal_narrowing_l2_l3_accuracy: 0.9030 - val_left_neural_foraminal_narrowing_l3_l4_accuracy: 0.7936 - val_left_neural_foraminal_narrowing_l4_l5_accuracy: 0.6401 - val_left_neural_foraminal_narrowing_l5_s1_accuracy: 0.6484 - val_right_neural_foraminal_narrowing_l1_l2_accuracy: 0.9666 - val_right_neural_foraminal_narrowing_l2_l3_accuracy: 0.9084 - val_right_neural_foraminal_narrowing_l3_l4_accuracy: 0.7807 - val_right_neural_foraminal_narrowing_l4_l5_accuracy: 0.6558 - val_right_neural_foraminal_narrowing_l5_s1_accuracy: 0.6509 - val_left_subarticular_stenosis_l1_l2_accuracy: 0.9309 - val_left_subarticular_stenosis_l2_l3_accuracy: 0.8216 - val_left_subarticular_stenosis_l3_l4_accuracy: 0.6795 - val_left_subarticular_stenosis_l4_l5_accuracy: 0.4683 - val_left_subarticular_stenosis_l5_s1_accuracy: 0.7208 - val_right_subarticular_stenosis_l1_l2_accuracy: 0.9129 - val_right_subarticular_stenosis_l2_l3_accuracy: 0.8312 - val_right_subarticular_stenosis_l3_l4_accuracy: 0.7053 - val_right_subarticular_stenosis_l4_l5_accuracy: 0.4673 - val_right_subarticular_stenosis_l5_s1_accuracy: 0.7428\n",
      "Epoch 5/10\n",
      "195/195 [==============================] - 15s 75ms/step - loss: 14.4135 - spinal_canal_stenosis_l1_l2_loss: 0.1983 - spinal_canal_stenosis_l2_l3_loss: 0.3724 - spinal_canal_stenosis_l3_l4_loss: 0.5713 - spinal_canal_stenosis_l4_l5_loss: 0.7210 - spinal_canal_stenosis_l5_s1_loss: 0.1741 - left_neural_foraminal_narrowing_l1_l2_loss: 0.1534 - left_neural_foraminal_narrowing_l2_l3_loss: 0.3187 - left_neural_foraminal_narrowing_l3_l4_loss: 0.6079 - left_neural_foraminal_narrowing_l4_l5_loss: 0.8520 - left_neural_foraminal_narrowing_l5_s1_loss: 0.8773 - right_neural_foraminal_narrowing_l1_l2_loss: 0.1802 - right_neural_foraminal_narrowing_l2_l3_loss: 0.3000 - right_neural_foraminal_narrowing_l3_l4_loss: 0.5951 - right_neural_foraminal_narrowing_l4_l5_loss: 0.8327 - right_neural_foraminal_narrowing_l5_s1_loss: 0.8421 - left_subarticular_stenosis_l1_l2_loss: 0.2519 - left_subarticular_stenosis_l2_l3_loss: 0.5359 - left_subarticular_stenosis_l3_l4_loss: 0.8071 - left_subarticular_stenosis_l4_l5_loss: 1.0481 - left_subarticular_stenosis_l5_s1_loss: 0.7491 - right_subarticular_stenosis_l1_l2_loss: 0.2587 - right_subarticular_stenosis_l2_l3_loss: 0.5133 - right_subarticular_stenosis_l3_l4_loss: 0.8262 - right_subarticular_stenosis_l4_l5_loss: 1.0456 - right_subarticular_stenosis_l5_s1_loss: 0.7810 - spinal_canal_stenosis_l1_l2_accuracy: 0.9562 - spinal_canal_stenosis_l2_l3_accuracy: 0.8994 - spinal_canal_stenosis_l3_l4_accuracy: 0.8199 - spinal_canal_stenosis_l4_l5_accuracy: 0.7488 - spinal_canal_stenosis_l5_s1_accuracy: 0.9645 - left_neural_foraminal_narrowing_l1_l2_accuracy: 0.9654 - left_neural_foraminal_narrowing_l2_l3_accuracy: 0.9089 - left_neural_foraminal_narrowing_l3_l4_accuracy: 0.7668 - left_neural_foraminal_narrowing_l4_l5_accuracy: 0.6058 - left_neural_foraminal_narrowing_l5_s1_accuracy: 0.6298 - right_neural_foraminal_narrowing_l1_l2_accuracy: 0.9600 - right_neural_foraminal_narrowing_l2_l3_accuracy: 0.9134 - right_neural_foraminal_narrowing_l3_l4_accuracy: 0.7678 - right_neural_foraminal_narrowing_l4_l5_accuracy: 0.6077 - right_neural_foraminal_narrowing_l5_s1_accuracy: 0.6543 - left_subarticular_stenosis_l1_l2_accuracy: 0.9401 - left_subarticular_stenosis_l2_l3_accuracy: 0.8299 - left_subarticular_stenosis_l3_l4_accuracy: 0.6716 - left_subarticular_stenosis_l4_l5_accuracy: 0.4487 - left_subarticular_stenosis_l5_s1_accuracy: 0.7173 - right_subarticular_stenosis_l1_l2_accuracy: 0.9362 - right_subarticular_stenosis_l2_l3_accuracy: 0.8414 - right_subarticular_stenosis_l3_l4_accuracy: 0.6621 - right_subarticular_stenosis_l4_l5_accuracy: 0.4524 - right_subarticular_stenosis_l5_s1_accuracy: 0.7031 - val_loss: 14.5046 - val_spinal_canal_stenosis_l1_l2_loss: 0.2163 - val_spinal_canal_stenosis_l2_l3_loss: 0.4449 - val_spinal_canal_stenosis_l3_l4_loss: 0.5538 - val_spinal_canal_stenosis_l4_l5_loss: 0.7074 - val_spinal_canal_stenosis_l5_s1_loss: 0.1714 - val_left_neural_foraminal_narrowing_l1_l2_loss: 0.1293 - val_left_neural_foraminal_narrowing_l2_l3_loss: 0.3255 - val_left_neural_foraminal_narrowing_l3_l4_loss: 0.5548 - val_left_neural_foraminal_narrowing_l4_l5_loss: 0.8169 - val_left_neural_foraminal_narrowing_l5_s1_loss: 0.8371 - val_right_neural_foraminal_narrowing_l1_l2_loss: 0.1664 - val_right_neural_foraminal_narrowing_l2_l3_loss: 0.3240 - val_right_neural_foraminal_narrowing_l3_l4_loss: 0.6041 - val_right_neural_foraminal_narrowing_l4_l5_loss: 0.8287 - val_right_neural_foraminal_narrowing_l5_s1_loss: 0.8452 - val_left_subarticular_stenosis_l1_l2_loss: 0.2774 - val_left_subarticular_stenosis_l2_l3_loss: 0.6105 - val_left_subarticular_stenosis_l3_l4_loss: 0.8518 - val_left_subarticular_stenosis_l4_l5_loss: 1.0539 - val_left_subarticular_stenosis_l5_s1_loss: 0.7670 - val_right_subarticular_stenosis_l1_l2_loss: 0.3290 - val_right_subarticular_stenosis_l2_l3_loss: 0.5130 - val_right_subarticular_stenosis_l3_l4_loss: 0.7932 - val_right_subarticular_stenosis_l4_l5_loss: 1.0541 - val_right_subarticular_stenosis_l5_s1_loss: 0.7288 - val_spinal_canal_stenosis_l1_l2_accuracy: 0.9512 - val_spinal_canal_stenosis_l2_l3_accuracy: 0.8833 - val_spinal_canal_stenosis_l3_l4_accuracy: 0.8320 - val_spinal_canal_stenosis_l4_l5_accuracy: 0.7624 - val_spinal_canal_stenosis_l5_s1_accuracy: 0.9645 - val_left_neural_foraminal_narrowing_l1_l2_accuracy: 0.9718 - val_left_neural_foraminal_narrowing_l2_l3_accuracy: 0.9030 - val_left_neural_foraminal_narrowing_l3_l4_accuracy: 0.7939 - val_left_neural_foraminal_narrowing_l4_l5_accuracy: 0.6393 - val_left_neural_foraminal_narrowing_l5_s1_accuracy: 0.6484 - val_right_neural_foraminal_narrowing_l1_l2_accuracy: 0.9666 - val_right_neural_foraminal_narrowing_l2_l3_accuracy: 0.9084 - val_right_neural_foraminal_narrowing_l3_l4_accuracy: 0.7806 - val_right_neural_foraminal_narrowing_l4_l5_accuracy: 0.6557 - val_right_neural_foraminal_narrowing_l5_s1_accuracy: 0.6510 - val_left_subarticular_stenosis_l1_l2_accuracy: 0.9309 - val_left_subarticular_stenosis_l2_l3_accuracy: 0.8216 - val_left_subarticular_stenosis_l3_l4_accuracy: 0.6796 - val_left_subarticular_stenosis_l4_l5_accuracy: 0.4631 - val_left_subarticular_stenosis_l5_s1_accuracy: 0.7210 - val_right_subarticular_stenosis_l1_l2_accuracy: 0.9129 - val_right_subarticular_stenosis_l2_l3_accuracy: 0.8312 - val_right_subarticular_stenosis_l3_l4_accuracy: 0.7054 - val_right_subarticular_stenosis_l4_l5_accuracy: 0.4669 - val_right_subarticular_stenosis_l5_s1_accuracy: 0.7429\n",
      "Epoch 6/10\n",
      "195/195 [==============================] - 14s 73ms/step - loss: 14.3754 - spinal_canal_stenosis_l1_l2_loss: 0.1969 - spinal_canal_stenosis_l2_l3_loss: 0.3711 - spinal_canal_stenosis_l3_l4_loss: 0.5700 - spinal_canal_stenosis_l4_l5_loss: 0.7192 - spinal_canal_stenosis_l5_s1_loss: 0.1729 - left_neural_foraminal_narrowing_l1_l2_loss: 0.1532 - left_neural_foraminal_narrowing_l2_l3_loss: 0.3169 - left_neural_foraminal_narrowing_l3_l4_loss: 0.6061 - left_neural_foraminal_narrowing_l4_l5_loss: 0.8504 - left_neural_foraminal_narrowing_l5_s1_loss: 0.8763 - right_neural_foraminal_narrowing_l1_l2_loss: 0.1802 - right_neural_foraminal_narrowing_l2_l3_loss: 0.2992 - right_neural_foraminal_narrowing_l3_l4_loss: 0.5942 - right_neural_foraminal_narrowing_l4_l5_loss: 0.8308 - right_neural_foraminal_narrowing_l5_s1_loss: 0.8406 - left_subarticular_stenosis_l1_l2_loss: 0.2508 - left_subarticular_stenosis_l2_l3_loss: 0.5339 - left_subarticular_stenosis_l3_l4_loss: 0.8043 - left_subarticular_stenosis_l4_l5_loss: 1.0455 - left_subarticular_stenosis_l5_s1_loss: 0.7477 - right_subarticular_stenosis_l1_l2_loss: 0.2563 - right_subarticular_stenosis_l2_l3_loss: 0.5122 - right_subarticular_stenosis_l3_l4_loss: 0.8237 - right_subarticular_stenosis_l4_l5_loss: 1.0431 - right_subarticular_stenosis_l5_s1_loss: 0.7799 - spinal_canal_stenosis_l1_l2_accuracy: 0.9563 - spinal_canal_stenosis_l2_l3_accuracy: 0.8995 - spinal_canal_stenosis_l3_l4_accuracy: 0.8201 - spinal_canal_stenosis_l4_l5_accuracy: 0.7489 - spinal_canal_stenosis_l5_s1_accuracy: 0.9645 - left_neural_foraminal_narrowing_l1_l2_accuracy: 0.9654 - left_neural_foraminal_narrowing_l2_l3_accuracy: 0.9088 - left_neural_foraminal_narrowing_l3_l4_accuracy: 0.7671 - left_neural_foraminal_narrowing_l4_l5_accuracy: 0.6059 - left_neural_foraminal_narrowing_l5_s1_accuracy: 0.6300 - right_neural_foraminal_narrowing_l1_l2_accuracy: 0.9601 - right_neural_foraminal_narrowing_l2_l3_accuracy: 0.9134 - right_neural_foraminal_narrowing_l3_l4_accuracy: 0.7677 - right_neural_foraminal_narrowing_l4_l5_accuracy: 0.6078 - right_neural_foraminal_narrowing_l5_s1_accuracy: 0.6545 - left_subarticular_stenosis_l1_l2_accuracy: 0.9401 - left_subarticular_stenosis_l2_l3_accuracy: 0.8300 - left_subarticular_stenosis_l3_l4_accuracy: 0.6720 - left_subarticular_stenosis_l4_l5_accuracy: 0.4500 - left_subarticular_stenosis_l5_s1_accuracy: 0.7174 - right_subarticular_stenosis_l1_l2_accuracy: 0.9363 - right_subarticular_stenosis_l2_l3_accuracy: 0.8415 - right_subarticular_stenosis_l3_l4_accuracy: 0.6625 - right_subarticular_stenosis_l4_l5_accuracy: 0.4547 - right_subarticular_stenosis_l5_s1_accuracy: 0.7029 - val_loss: 14.4291 - val_spinal_canal_stenosis_l1_l2_loss: 0.2184 - val_spinal_canal_stenosis_l2_l3_loss: 0.4230 - val_spinal_canal_stenosis_l3_l4_loss: 0.5522 - val_spinal_canal_stenosis_l4_l5_loss: 0.7082 - val_spinal_canal_stenosis_l5_s1_loss: 0.1712 - val_left_neural_foraminal_narrowing_l1_l2_loss: 0.1301 - val_left_neural_foraminal_narrowing_l2_l3_loss: 0.3293 - val_left_neural_foraminal_narrowing_l3_l4_loss: 0.5607 - val_left_neural_foraminal_narrowing_l4_l5_loss: 0.8143 - val_left_neural_foraminal_narrowing_l5_s1_loss: 0.8383 - val_right_neural_foraminal_narrowing_l1_l2_loss: 0.1619 - val_right_neural_foraminal_narrowing_l2_l3_loss: 0.3237 - val_right_neural_foraminal_narrowing_l3_l4_loss: 0.6043 - val_right_neural_foraminal_narrowing_l4_l5_loss: 0.8353 - val_right_neural_foraminal_narrowing_l5_s1_loss: 0.8462 - val_left_subarticular_stenosis_l1_l2_loss: 0.2771 - val_left_subarticular_stenosis_l2_l3_loss: 0.5706 - val_left_subarticular_stenosis_l3_l4_loss: 0.8428 - val_left_subarticular_stenosis_l4_l5_loss: 1.0504 - val_left_subarticular_stenosis_l5_s1_loss: 0.7687 - val_right_subarticular_stenosis_l1_l2_loss: 0.3303 - val_right_subarticular_stenosis_l2_l3_loss: 0.5152 - val_right_subarticular_stenosis_l3_l4_loss: 0.7805 - val_right_subarticular_stenosis_l4_l5_loss: 1.0446 - val_right_subarticular_stenosis_l5_s1_loss: 0.7319 - val_spinal_canal_stenosis_l1_l2_accuracy: 0.9512 - val_spinal_canal_stenosis_l2_l3_accuracy: 0.8829 - val_spinal_canal_stenosis_l3_l4_accuracy: 0.8319 - val_spinal_canal_stenosis_l4_l5_accuracy: 0.7625 - val_spinal_canal_stenosis_l5_s1_accuracy: 0.9645 - val_left_neural_foraminal_narrowing_l1_l2_accuracy: 0.9718 - val_left_neural_foraminal_narrowing_l2_l3_accuracy: 0.9028 - val_left_neural_foraminal_narrowing_l3_l4_accuracy: 0.7937 - val_left_neural_foraminal_narrowing_l4_l5_accuracy: 0.6385 - val_left_neural_foraminal_narrowing_l5_s1_accuracy: 0.6485 - val_right_neural_foraminal_narrowing_l1_l2_accuracy: 0.9666 - val_right_neural_foraminal_narrowing_l2_l3_accuracy: 0.9083 - val_right_neural_foraminal_narrowing_l3_l4_accuracy: 0.7802 - val_right_neural_foraminal_narrowing_l4_l5_accuracy: 0.6550 - val_right_neural_foraminal_narrowing_l5_s1_accuracy: 0.6509 - val_left_subarticular_stenosis_l1_l2_accuracy: 0.9307 - val_left_subarticular_stenosis_l2_l3_accuracy: 0.8216 - val_left_subarticular_stenosis_l3_l4_accuracy: 0.6787 - val_left_subarticular_stenosis_l4_l5_accuracy: 0.4650 - val_left_subarticular_stenosis_l5_s1_accuracy: 0.7207 - val_right_subarticular_stenosis_l1_l2_accuracy: 0.9128 - val_right_subarticular_stenosis_l2_l3_accuracy: 0.8308 - val_right_subarticular_stenosis_l3_l4_accuracy: 0.7050 - val_right_subarticular_stenosis_l4_l5_accuracy: 0.4627 - val_right_subarticular_stenosis_l5_s1_accuracy: 0.7427\n",
      "Epoch 7/10\n",
      "195/195 [==============================] - 14s 72ms/step - loss: 14.3096 - spinal_canal_stenosis_l1_l2_loss: 0.1962 - spinal_canal_stenosis_l2_l3_loss: 0.3683 - spinal_canal_stenosis_l3_l4_loss: 0.5661 - spinal_canal_stenosis_l4_l5_loss: 0.7159 - spinal_canal_stenosis_l5_s1_loss: 0.1720 - left_neural_foraminal_narrowing_l1_l2_loss: 0.1520 - left_neural_foraminal_narrowing_l2_l3_loss: 0.3143 - left_neural_foraminal_narrowing_l3_l4_loss: 0.6037 - left_neural_foraminal_narrowing_l4_l5_loss: 0.8472 - left_neural_foraminal_narrowing_l5_s1_loss: 0.8740 - right_neural_foraminal_narrowing_l1_l2_loss: 0.1792 - right_neural_foraminal_narrowing_l2_l3_loss: 0.2973 - right_neural_foraminal_narrowing_l3_l4_loss: 0.5905 - right_neural_foraminal_narrowing_l4_l5_loss: 0.8281 - right_neural_foraminal_narrowing_l5_s1_loss: 0.8395 - left_subarticular_stenosis_l1_l2_loss: 0.2494 - left_subarticular_stenosis_l2_l3_loss: 0.5301 - left_subarticular_stenosis_l3_l4_loss: 0.8001 - left_subarticular_stenosis_l4_l5_loss: 1.0412 - left_subarticular_stenosis_l5_s1_loss: 0.7460 - right_subarticular_stenosis_l1_l2_loss: 0.2549 - right_subarticular_stenosis_l2_l3_loss: 0.5085 - right_subarticular_stenosis_l3_l4_loss: 0.8187 - right_subarticular_stenosis_l4_l5_loss: 1.0385 - right_subarticular_stenosis_l5_s1_loss: 0.7782 - spinal_canal_stenosis_l1_l2_accuracy: 0.9563 - spinal_canal_stenosis_l2_l3_accuracy: 0.8994 - spinal_canal_stenosis_l3_l4_accuracy: 0.8201 - spinal_canal_stenosis_l4_l5_accuracy: 0.7488 - spinal_canal_stenosis_l5_s1_accuracy: 0.9645 - left_neural_foraminal_narrowing_l1_l2_accuracy: 0.9654 - left_neural_foraminal_narrowing_l2_l3_accuracy: 0.9090 - left_neural_foraminal_narrowing_l3_l4_accuracy: 0.7673 - left_neural_foraminal_narrowing_l4_l5_accuracy: 0.6064 - left_neural_foraminal_narrowing_l5_s1_accuracy: 0.6300 - right_neural_foraminal_narrowing_l1_l2_accuracy: 0.9601 - right_neural_foraminal_narrowing_l2_l3_accuracy: 0.9134 - right_neural_foraminal_narrowing_l3_l4_accuracy: 0.7677 - right_neural_foraminal_narrowing_l4_l5_accuracy: 0.6081 - right_neural_foraminal_narrowing_l5_s1_accuracy: 0.6546 - left_subarticular_stenosis_l1_l2_accuracy: 0.9401 - left_subarticular_stenosis_l2_l3_accuracy: 0.8302 - left_subarticular_stenosis_l3_l4_accuracy: 0.6720 - left_subarticular_stenosis_l4_l5_accuracy: 0.4528 - left_subarticular_stenosis_l5_s1_accuracy: 0.7172 - right_subarticular_stenosis_l1_l2_accuracy: 0.9363 - right_subarticular_stenosis_l2_l3_accuracy: 0.8413 - right_subarticular_stenosis_l3_l4_accuracy: 0.6629 - right_subarticular_stenosis_l4_l5_accuracy: 0.4565 - right_subarticular_stenosis_l5_s1_accuracy: 0.7034 - val_loss: 14.4413 - val_spinal_canal_stenosis_l1_l2_loss: 0.2171 - val_spinal_canal_stenosis_l2_l3_loss: 0.4245 - val_spinal_canal_stenosis_l3_l4_loss: 0.5529 - val_spinal_canal_stenosis_l4_l5_loss: 0.7042 - val_spinal_canal_stenosis_l5_s1_loss: 0.1707 - val_left_neural_foraminal_narrowing_l1_l2_loss: 0.1309 - val_left_neural_foraminal_narrowing_l2_l3_loss: 0.3302 - val_left_neural_foraminal_narrowing_l3_l4_loss: 0.5566 - val_left_neural_foraminal_narrowing_l4_l5_loss: 0.8148 - val_left_neural_foraminal_narrowing_l5_s1_loss: 0.8381 - val_right_neural_foraminal_narrowing_l1_l2_loss: 0.1680 - val_right_neural_foraminal_narrowing_l2_l3_loss: 0.3256 - val_right_neural_foraminal_narrowing_l3_l4_loss: 0.6065 - val_right_neural_foraminal_narrowing_l4_l5_loss: 0.8308 - val_right_neural_foraminal_narrowing_l5_s1_loss: 0.8449 - val_left_subarticular_stenosis_l1_l2_loss: 0.2783 - val_left_subarticular_stenosis_l2_l3_loss: 0.5789 - val_left_subarticular_stenosis_l3_l4_loss: 0.8380 - val_left_subarticular_stenosis_l4_l5_loss: 1.0499 - val_left_subarticular_stenosis_l5_s1_loss: 0.7672 - val_right_subarticular_stenosis_l1_l2_loss: 0.3317 - val_right_subarticular_stenosis_l2_l3_loss: 0.5147 - val_right_subarticular_stenosis_l3_l4_loss: 0.7841 - val_right_subarticular_stenosis_l4_l5_loss: 1.0513 - val_right_subarticular_stenosis_l5_s1_loss: 0.7314 - val_spinal_canal_stenosis_l1_l2_accuracy: 0.9511 - val_spinal_canal_stenosis_l2_l3_accuracy: 0.8830 - val_spinal_canal_stenosis_l3_l4_accuracy: 0.8320 - val_spinal_canal_stenosis_l4_l5_accuracy: 0.7622 - val_spinal_canal_stenosis_l5_s1_accuracy: 0.9645 - val_left_neural_foraminal_narrowing_l1_l2_accuracy: 0.9718 - val_left_neural_foraminal_narrowing_l2_l3_accuracy: 0.9026 - val_left_neural_foraminal_narrowing_l3_l4_accuracy: 0.7933 - val_left_neural_foraminal_narrowing_l4_l5_accuracy: 0.6370 - val_left_neural_foraminal_narrowing_l5_s1_accuracy: 0.6486 - val_right_neural_foraminal_narrowing_l1_l2_accuracy: 0.9666 - val_right_neural_foraminal_narrowing_l2_l3_accuracy: 0.9082 - val_right_neural_foraminal_narrowing_l3_l4_accuracy: 0.7803 - val_right_neural_foraminal_narrowing_l4_l5_accuracy: 0.6548 - val_right_neural_foraminal_narrowing_l5_s1_accuracy: 0.6511 - val_left_subarticular_stenosis_l1_l2_accuracy: 0.9308 - val_left_subarticular_stenosis_l2_l3_accuracy: 0.8215 - val_left_subarticular_stenosis_l3_l4_accuracy: 0.6782 - val_left_subarticular_stenosis_l4_l5_accuracy: 0.4526 - val_left_subarticular_stenosis_l5_s1_accuracy: 0.7204 - val_right_subarticular_stenosis_l1_l2_accuracy: 0.9128 - val_right_subarticular_stenosis_l2_l3_accuracy: 0.8310 - val_right_subarticular_stenosis_l3_l4_accuracy: 0.7045 - val_right_subarticular_stenosis_l4_l5_accuracy: 0.4522 - val_right_subarticular_stenosis_l5_s1_accuracy: 0.7427\n",
      "Epoch 8/10\n",
      "195/195 [==============================] - 14s 73ms/step - loss: 14.2723 - spinal_canal_stenosis_l1_l2_loss: 0.1958 - spinal_canal_stenosis_l2_l3_loss: 0.3668 - spinal_canal_stenosis_l3_l4_loss: 0.5636 - spinal_canal_stenosis_l4_l5_loss: 0.7158 - spinal_canal_stenosis_l5_s1_loss: 0.1722 - left_neural_foraminal_narrowing_l1_l2_loss: 0.1513 - left_neural_foraminal_narrowing_l2_l3_loss: 0.3133 - left_neural_foraminal_narrowing_l3_l4_loss: 0.6017 - left_neural_foraminal_narrowing_l4_l5_loss: 0.8456 - left_neural_foraminal_narrowing_l5_s1_loss: 0.8723 - right_neural_foraminal_narrowing_l1_l2_loss: 0.1789 - right_neural_foraminal_narrowing_l2_l3_loss: 0.2964 - right_neural_foraminal_narrowing_l3_l4_loss: 0.5890 - right_neural_foraminal_narrowing_l4_l5_loss: 0.8259 - right_neural_foraminal_narrowing_l5_s1_loss: 0.8380 - left_subarticular_stenosis_l1_l2_loss: 0.2482 - left_subarticular_stenosis_l2_l3_loss: 0.5280 - left_subarticular_stenosis_l3_l4_loss: 0.7981 - left_subarticular_stenosis_l4_l5_loss: 1.0388 - left_subarticular_stenosis_l5_s1_loss: 0.7453 - right_subarticular_stenosis_l1_l2_loss: 0.2539 - right_subarticular_stenosis_l2_l3_loss: 0.5060 - right_subarticular_stenosis_l3_l4_loss: 0.8150 - right_subarticular_stenosis_l4_l5_loss: 1.0362 - right_subarticular_stenosis_l5_s1_loss: 0.7764 - spinal_canal_stenosis_l1_l2_accuracy: 0.9564 - spinal_canal_stenosis_l2_l3_accuracy: 0.8994 - spinal_canal_stenosis_l3_l4_accuracy: 0.8203 - spinal_canal_stenosis_l4_l5_accuracy: 0.7488 - spinal_canal_stenosis_l5_s1_accuracy: 0.9645 - left_neural_foraminal_narrowing_l1_l2_accuracy: 0.9654 - left_neural_foraminal_narrowing_l2_l3_accuracy: 0.9092 - left_neural_foraminal_narrowing_l3_l4_accuracy: 0.7680 - left_neural_foraminal_narrowing_l4_l5_accuracy: 0.6062 - left_neural_foraminal_narrowing_l5_s1_accuracy: 0.6303 - right_neural_foraminal_narrowing_l1_l2_accuracy: 0.9602 - right_neural_foraminal_narrowing_l2_l3_accuracy: 0.9136 - right_neural_foraminal_narrowing_l3_l4_accuracy: 0.7680 - right_neural_foraminal_narrowing_l4_l5_accuracy: 0.6079 - right_neural_foraminal_narrowing_l5_s1_accuracy: 0.6551 - left_subarticular_stenosis_l1_l2_accuracy: 0.9402 - left_subarticular_stenosis_l2_l3_accuracy: 0.8302 - left_subarticular_stenosis_l3_l4_accuracy: 0.6724 - left_subarticular_stenosis_l4_l5_accuracy: 0.4543 - left_subarticular_stenosis_l5_s1_accuracy: 0.7174 - right_subarticular_stenosis_l1_l2_accuracy: 0.9363 - right_subarticular_stenosis_l2_l3_accuracy: 0.8416 - right_subarticular_stenosis_l3_l4_accuracy: 0.6630 - right_subarticular_stenosis_l4_l5_accuracy: 0.4607 - right_subarticular_stenosis_l5_s1_accuracy: 0.7034 - val_loss: 14.3841 - val_spinal_canal_stenosis_l1_l2_loss: 0.2184 - val_spinal_canal_stenosis_l2_l3_loss: 0.4330 - val_spinal_canal_stenosis_l3_l4_loss: 0.5535 - val_spinal_canal_stenosis_l4_l5_loss: 0.7027 - val_spinal_canal_stenosis_l5_s1_loss: 0.1692 - val_left_neural_foraminal_narrowing_l1_l2_loss: 0.1279 - val_left_neural_foraminal_narrowing_l2_l3_loss: 0.3261 - val_left_neural_foraminal_narrowing_l3_l4_loss: 0.5486 - val_left_neural_foraminal_narrowing_l4_l5_loss: 0.8085 - val_left_neural_foraminal_narrowing_l5_s1_loss: 0.8373 - val_right_neural_foraminal_narrowing_l1_l2_loss: 0.1635 - val_right_neural_foraminal_narrowing_l2_l3_loss: 0.3226 - val_right_neural_foraminal_narrowing_l3_l4_loss: 0.6023 - val_right_neural_foraminal_narrowing_l4_l5_loss: 0.8255 - val_right_neural_foraminal_narrowing_l5_s1_loss: 0.8470 - val_left_subarticular_stenosis_l1_l2_loss: 0.2830 - val_left_subarticular_stenosis_l2_l3_loss: 0.5813 - val_left_subarticular_stenosis_l3_l4_loss: 0.8430 - val_left_subarticular_stenosis_l4_l5_loss: 1.0422 - val_left_subarticular_stenosis_l5_s1_loss: 0.7658 - val_right_subarticular_stenosis_l1_l2_loss: 0.3339 - val_right_subarticular_stenosis_l2_l3_loss: 0.5121 - val_right_subarticular_stenosis_l3_l4_loss: 0.7770 - val_right_subarticular_stenosis_l4_l5_loss: 1.0361 - val_right_subarticular_stenosis_l5_s1_loss: 0.7236 - val_spinal_canal_stenosis_l1_l2_accuracy: 0.9510 - val_spinal_canal_stenosis_l2_l3_accuracy: 0.8829 - val_spinal_canal_stenosis_l3_l4_accuracy: 0.8318 - val_spinal_canal_stenosis_l4_l5_accuracy: 0.7620 - val_spinal_canal_stenosis_l5_s1_accuracy: 0.9645 - val_left_neural_foraminal_narrowing_l1_l2_accuracy: 0.9718 - val_left_neural_foraminal_narrowing_l2_l3_accuracy: 0.9029 - val_left_neural_foraminal_narrowing_l3_l4_accuracy: 0.7933 - val_left_neural_foraminal_narrowing_l4_l5_accuracy: 0.6392 - val_left_neural_foraminal_narrowing_l5_s1_accuracy: 0.6484 - val_right_neural_foraminal_narrowing_l1_l2_accuracy: 0.9666 - val_right_neural_foraminal_narrowing_l2_l3_accuracy: 0.9083 - val_right_neural_foraminal_narrowing_l3_l4_accuracy: 0.7796 - val_right_neural_foraminal_narrowing_l4_l5_accuracy: 0.6560 - val_right_neural_foraminal_narrowing_l5_s1_accuracy: 0.6512 - val_left_subarticular_stenosis_l1_l2_accuracy: 0.9309 - val_left_subarticular_stenosis_l2_l3_accuracy: 0.8215 - val_left_subarticular_stenosis_l3_l4_accuracy: 0.6783 - val_left_subarticular_stenosis_l4_l5_accuracy: 0.4679 - val_left_subarticular_stenosis_l5_s1_accuracy: 0.7209 - val_right_subarticular_stenosis_l1_l2_accuracy: 0.9128 - val_right_subarticular_stenosis_l2_l3_accuracy: 0.8311 - val_right_subarticular_stenosis_l3_l4_accuracy: 0.7044 - val_right_subarticular_stenosis_l4_l5_accuracy: 0.4635 - val_right_subarticular_stenosis_l5_s1_accuracy: 0.7428\n",
      "Epoch 9/10\n",
      "195/195 [==============================] - 14s 72ms/step - loss: 14.2078 - spinal_canal_stenosis_l1_l2_loss: 0.1941 - spinal_canal_stenosis_l2_l3_loss: 0.3643 - spinal_canal_stenosis_l3_l4_loss: 0.5601 - spinal_canal_stenosis_l4_l5_loss: 0.7113 - spinal_canal_stenosis_l5_s1_loss: 0.1719 - left_neural_foraminal_narrowing_l1_l2_loss: 0.1504 - left_neural_foraminal_narrowing_l2_l3_loss: 0.3119 - left_neural_foraminal_narrowing_l3_l4_loss: 0.5992 - left_neural_foraminal_narrowing_l4_l5_loss: 0.8420 - left_neural_foraminal_narrowing_l5_s1_loss: 0.8698 - right_neural_foraminal_narrowing_l1_l2_loss: 0.1768 - right_neural_foraminal_narrowing_l2_l3_loss: 0.2942 - right_neural_foraminal_narrowing_l3_l4_loss: 0.5863 - right_neural_foraminal_narrowing_l4_l5_loss: 0.8218 - right_neural_foraminal_narrowing_l5_s1_loss: 0.8354 - left_subarticular_stenosis_l1_l2_loss: 0.2455 - left_subarticular_stenosis_l2_l3_loss: 0.5256 - left_subarticular_stenosis_l3_l4_loss: 0.7944 - left_subarticular_stenosis_l4_l5_loss: 1.0351 - left_subarticular_stenosis_l5_s1_loss: 0.7440 - right_subarticular_stenosis_l1_l2_loss: 0.2513 - right_subarticular_stenosis_l2_l3_loss: 0.5036 - right_subarticular_stenosis_l3_l4_loss: 0.8121 - right_subarticular_stenosis_l4_l5_loss: 1.0329 - right_subarticular_stenosis_l5_s1_loss: 0.7737 - spinal_canal_stenosis_l1_l2_accuracy: 0.9563 - spinal_canal_stenosis_l2_l3_accuracy: 0.8995 - spinal_canal_stenosis_l3_l4_accuracy: 0.8203 - spinal_canal_stenosis_l4_l5_accuracy: 0.7492 - spinal_canal_stenosis_l5_s1_accuracy: 0.9646 - left_neural_foraminal_narrowing_l1_l2_accuracy: 0.9654 - left_neural_foraminal_narrowing_l2_l3_accuracy: 0.9089 - left_neural_foraminal_narrowing_l3_l4_accuracy: 0.7673 - left_neural_foraminal_narrowing_l4_l5_accuracy: 0.6074 - left_neural_foraminal_narrowing_l5_s1_accuracy: 0.6303 - right_neural_foraminal_narrowing_l1_l2_accuracy: 0.9603 - right_neural_foraminal_narrowing_l2_l3_accuracy: 0.9136 - right_neural_foraminal_narrowing_l3_l4_accuracy: 0.7684 - right_neural_foraminal_narrowing_l4_l5_accuracy: 0.6084 - right_neural_foraminal_narrowing_l5_s1_accuracy: 0.6549 - left_subarticular_stenosis_l1_l2_accuracy: 0.9403 - left_subarticular_stenosis_l2_l3_accuracy: 0.8303 - left_subarticular_stenosis_l3_l4_accuracy: 0.6729 - left_subarticular_stenosis_l4_l5_accuracy: 0.4576 - left_subarticular_stenosis_l5_s1_accuracy: 0.7174 - right_subarticular_stenosis_l1_l2_accuracy: 0.9365 - right_subarticular_stenosis_l2_l3_accuracy: 0.8418 - right_subarticular_stenosis_l3_l4_accuracy: 0.6639 - right_subarticular_stenosis_l4_l5_accuracy: 0.4626 - right_subarticular_stenosis_l5_s1_accuracy: 0.7039 - val_loss: 14.4430 - val_spinal_canal_stenosis_l1_l2_loss: 0.2195 - val_spinal_canal_stenosis_l2_l3_loss: 0.4418 - val_spinal_canal_stenosis_l3_l4_loss: 0.5493 - val_spinal_canal_stenosis_l4_l5_loss: 0.7009 - val_spinal_canal_stenosis_l5_s1_loss: 0.1717 - val_left_neural_foraminal_narrowing_l1_l2_loss: 0.1284 - val_left_neural_foraminal_narrowing_l2_l3_loss: 0.3299 - val_left_neural_foraminal_narrowing_l3_l4_loss: 0.5509 - val_left_neural_foraminal_narrowing_l4_l5_loss: 0.8079 - val_left_neural_foraminal_narrowing_l5_s1_loss: 0.8323 - val_right_neural_foraminal_narrowing_l1_l2_loss: 0.1659 - val_right_neural_foraminal_narrowing_l2_l3_loss: 0.3277 - val_right_neural_foraminal_narrowing_l3_l4_loss: 0.6016 - val_right_neural_foraminal_narrowing_l4_l5_loss: 0.8245 - val_right_neural_foraminal_narrowing_l5_s1_loss: 0.8457 - val_left_subarticular_stenosis_l1_l2_loss: 0.2849 - val_left_subarticular_stenosis_l2_l3_loss: 0.5939 - val_left_subarticular_stenosis_l3_l4_loss: 0.8552 - val_left_subarticular_stenosis_l4_l5_loss: 1.0522 - val_left_subarticular_stenosis_l5_s1_loss: 0.7728 - val_right_subarticular_stenosis_l1_l2_loss: 0.3460 - val_right_subarticular_stenosis_l2_l3_loss: 0.5108 - val_right_subarticular_stenosis_l3_l4_loss: 0.7687 - val_right_subarticular_stenosis_l4_l5_loss: 1.0381 - val_right_subarticular_stenosis_l5_s1_loss: 0.7224 - val_spinal_canal_stenosis_l1_l2_accuracy: 0.9512 - val_spinal_canal_stenosis_l2_l3_accuracy: 0.8827 - val_spinal_canal_stenosis_l3_l4_accuracy: 0.8318 - val_spinal_canal_stenosis_l4_l5_accuracy: 0.7624 - val_spinal_canal_stenosis_l5_s1_accuracy: 0.9645 - val_left_neural_foraminal_narrowing_l1_l2_accuracy: 0.9718 - val_left_neural_foraminal_narrowing_l2_l3_accuracy: 0.9029 - val_left_neural_foraminal_narrowing_l3_l4_accuracy: 0.7932 - val_left_neural_foraminal_narrowing_l4_l5_accuracy: 0.6392 - val_left_neural_foraminal_narrowing_l5_s1_accuracy: 0.6485 - val_right_neural_foraminal_narrowing_l1_l2_accuracy: 0.9666 - val_right_neural_foraminal_narrowing_l2_l3_accuracy: 0.9083 - val_right_neural_foraminal_narrowing_l3_l4_accuracy: 0.7798 - val_right_neural_foraminal_narrowing_l4_l5_accuracy: 0.6542 - val_right_neural_foraminal_narrowing_l5_s1_accuracy: 0.6516 - val_left_subarticular_stenosis_l1_l2_accuracy: 0.9309 - val_left_subarticular_stenosis_l2_l3_accuracy: 0.8217 - val_left_subarticular_stenosis_l3_l4_accuracy: 0.6782 - val_left_subarticular_stenosis_l4_l5_accuracy: 0.4589 - val_left_subarticular_stenosis_l5_s1_accuracy: 0.7209 - val_right_subarticular_stenosis_l1_l2_accuracy: 0.9129 - val_right_subarticular_stenosis_l2_l3_accuracy: 0.8311 - val_right_subarticular_stenosis_l3_l4_accuracy: 0.7053 - val_right_subarticular_stenosis_l4_l5_accuracy: 0.4650 - val_right_subarticular_stenosis_l5_s1_accuracy: 0.7425\n",
      "Epoch 10/10\n",
      "195/195 [==============================] - 19s 95ms/step - loss: 14.1742 - spinal_canal_stenosis_l1_l2_loss: 0.1937 - spinal_canal_stenosis_l2_l3_loss: 0.3633 - spinal_canal_stenosis_l3_l4_loss: 0.5597 - spinal_canal_stenosis_l4_l5_loss: 0.7105 - spinal_canal_stenosis_l5_s1_loss: 0.1719 - left_neural_foraminal_narrowing_l1_l2_loss: 0.1503 - left_neural_foraminal_narrowing_l2_l3_loss: 0.3099 - left_neural_foraminal_narrowing_l3_l4_loss: 0.5987 - left_neural_foraminal_narrowing_l4_l5_loss: 0.8403 - left_neural_foraminal_narrowing_l5_s1_loss: 0.8687 - right_neural_foraminal_narrowing_l1_l2_loss: 0.1763 - right_neural_foraminal_narrowing_l2_l3_loss: 0.2932 - right_neural_foraminal_narrowing_l3_l4_loss: 0.5829 - right_neural_foraminal_narrowing_l4_l5_loss: 0.8208 - right_neural_foraminal_narrowing_l5_s1_loss: 0.8350 - left_subarticular_stenosis_l1_l2_loss: 0.2459 - left_subarticular_stenosis_l2_l3_loss: 0.5236 - left_subarticular_stenosis_l3_l4_loss: 0.7912 - left_subarticular_stenosis_l4_l5_loss: 1.0325 - left_subarticular_stenosis_l5_s1_loss: 0.7423 - right_subarticular_stenosis_l1_l2_loss: 0.2504 - right_subarticular_stenosis_l2_l3_loss: 0.5007 - right_subarticular_stenosis_l3_l4_loss: 0.8088 - right_subarticular_stenosis_l4_l5_loss: 1.0303 - right_subarticular_stenosis_l5_s1_loss: 0.7731 - spinal_canal_stenosis_l1_l2_accuracy: 0.9564 - spinal_canal_stenosis_l2_l3_accuracy: 0.8996 - spinal_canal_stenosis_l3_l4_accuracy: 0.8203 - spinal_canal_stenosis_l4_l5_accuracy: 0.7491 - spinal_canal_stenosis_l5_s1_accuracy: 0.9645 - left_neural_foraminal_narrowing_l1_l2_accuracy: 0.9654 - left_neural_foraminal_narrowing_l2_l3_accuracy: 0.9093 - left_neural_foraminal_narrowing_l3_l4_accuracy: 0.7680 - left_neural_foraminal_narrowing_l4_l5_accuracy: 0.6083 - left_neural_foraminal_narrowing_l5_s1_accuracy: 0.6307 - right_neural_foraminal_narrowing_l1_l2_accuracy: 0.9604 - right_neural_foraminal_narrowing_l2_l3_accuracy: 0.9137 - right_neural_foraminal_narrowing_l3_l4_accuracy: 0.7682 - right_neural_foraminal_narrowing_l4_l5_accuracy: 0.6086 - right_neural_foraminal_narrowing_l5_s1_accuracy: 0.6549 - left_subarticular_stenosis_l1_l2_accuracy: 0.9402 - left_subarticular_stenosis_l2_l3_accuracy: 0.8306 - left_subarticular_stenosis_l3_l4_accuracy: 0.6733 - left_subarticular_stenosis_l4_l5_accuracy: 0.4606 - left_subarticular_stenosis_l5_s1_accuracy: 0.7178 - right_subarticular_stenosis_l1_l2_accuracy: 0.9366 - right_subarticular_stenosis_l2_l3_accuracy: 0.8421 - right_subarticular_stenosis_l3_l4_accuracy: 0.6642 - right_subarticular_stenosis_l4_l5_accuracy: 0.4657 - right_subarticular_stenosis_l5_s1_accuracy: 0.7035 - val_loss: 14.3439 - val_spinal_canal_stenosis_l1_l2_loss: 0.2181 - val_spinal_canal_stenosis_l2_l3_loss: 0.4214 - val_spinal_canal_stenosis_l3_l4_loss: 0.5471 - val_spinal_canal_stenosis_l4_l5_loss: 0.7031 - val_spinal_canal_stenosis_l5_s1_loss: 0.1704 - val_left_neural_foraminal_narrowing_l1_l2_loss: 0.1284 - val_left_neural_foraminal_narrowing_l2_l3_loss: 0.3303 - val_left_neural_foraminal_narrowing_l3_l4_loss: 0.5524 - val_left_neural_foraminal_narrowing_l4_l5_loss: 0.8076 - val_left_neural_foraminal_narrowing_l5_s1_loss: 0.8310 - val_right_neural_foraminal_narrowing_l1_l2_loss: 0.1635 - val_right_neural_foraminal_narrowing_l2_l3_loss: 0.3242 - val_right_neural_foraminal_narrowing_l3_l4_loss: 0.6003 - val_right_neural_foraminal_narrowing_l4_l5_loss: 0.8219 - val_right_neural_foraminal_narrowing_l5_s1_loss: 0.8464 - val_left_subarticular_stenosis_l1_l2_loss: 0.2835 - val_left_subarticular_stenosis_l2_l3_loss: 0.5622 - val_left_subarticular_stenosis_l3_l4_loss: 0.8346 - val_left_subarticular_stenosis_l4_l5_loss: 1.0451 - val_left_subarticular_stenosis_l5_s1_loss: 0.7683 - val_right_subarticular_stenosis_l1_l2_loss: 0.3367 - val_right_subarticular_stenosis_l2_l3_loss: 0.5178 - val_right_subarticular_stenosis_l3_l4_loss: 0.7669 - val_right_subarticular_stenosis_l4_l5_loss: 1.0392 - val_right_subarticular_stenosis_l5_s1_loss: 0.7234 - val_spinal_canal_stenosis_l1_l2_accuracy: 0.9510 - val_spinal_canal_stenosis_l2_l3_accuracy: 0.8829 - val_spinal_canal_stenosis_l3_l4_accuracy: 0.8320 - val_spinal_canal_stenosis_l4_l5_accuracy: 0.7621 - val_spinal_canal_stenosis_l5_s1_accuracy: 0.9645 - val_left_neural_foraminal_narrowing_l1_l2_accuracy: 0.9718 - val_left_neural_foraminal_narrowing_l2_l3_accuracy: 0.9027 - val_left_neural_foraminal_narrowing_l3_l4_accuracy: 0.7927 - val_left_neural_foraminal_narrowing_l4_l5_accuracy: 0.6355 - val_left_neural_foraminal_narrowing_l5_s1_accuracy: 0.6478 - val_right_neural_foraminal_narrowing_l1_l2_accuracy: 0.9665 - val_right_neural_foraminal_narrowing_l2_l3_accuracy: 0.9080 - val_right_neural_foraminal_narrowing_l3_l4_accuracy: 0.7804 - val_right_neural_foraminal_narrowing_l4_l5_accuracy: 0.6520 - val_right_neural_foraminal_narrowing_l5_s1_accuracy: 0.6504 - val_left_subarticular_stenosis_l1_l2_accuracy: 0.9308 - val_left_subarticular_stenosis_l2_l3_accuracy: 0.8217 - val_left_subarticular_stenosis_l3_l4_accuracy: 0.6752 - val_left_subarticular_stenosis_l4_l5_accuracy: 0.4576 - val_left_subarticular_stenosis_l5_s1_accuracy: 0.7205 - val_right_subarticular_stenosis_l1_l2_accuracy: 0.9129 - val_right_subarticular_stenosis_l2_l3_accuracy: 0.8309 - val_right_subarticular_stenosis_l3_l4_accuracy: 0.7032 - val_right_subarticular_stenosis_l4_l5_accuracy: 0.4559 - val_right_subarticular_stenosis_l5_s1_accuracy: 0.7424\n"
     ]
    },
    {
     "data": {
      "text/plain": [
       "<keras.src.callbacks.History at 0x7b8a840c5510>"
      ]
     },
     "execution_count": 5,
     "metadata": {},
     "output_type": "execute_result"
    }
   ],
   "source": [
    "import pandas as pd\n",
    "\n",
    "train_labels = {labels[i]: training_labels[:, i] for i in range(25)}\n",
    "val_labels = {labels[i]: validation_labels[:, i] for i in range(25)}\n",
    "\n",
    "losses = {name: 'sparse_categorical_crossentropy' for name in model.output_names}\n",
    "\n",
    "model.compile(optimizer='adam', loss=losses, metrics=['accuracy'])\n",
    "\n",
    "model.compile(optimizer='adam',\n",
    "              loss=losses,\n",
    "              metrics=['accuracy'])\n",
    "\n",
    "model.fit(\n",
    "    training_images,\n",
    "    train_labels,\n",
    "    epochs = 10,\n",
    "    batch_size = 200,\n",
    "    validation_data=(validation_images, val_labels)  \n",
    ")"
   ]
  },
  {
   "cell_type": "code",
   "execution_count": 6,
   "id": "e01e0e03-d64c-4587-a2d9-3e0316290caa",
   "metadata": {},
   "outputs": [
    {
     "name": "stdout",
     "output_type": "stream",
     "text": [
      "4/4 [==============================] - 1s 15ms/step\n"
     ]
    }
   ],
   "source": [
    "predictions = model.predict(test_list)"
   ]
  },
  {
   "cell_type": "code",
   "execution_count": 7,
   "id": "6d7d8f5c-68b8-45ca-8873-03da27fc9bd9",
   "metadata": {},
   "outputs": [
    {
     "name": "stdout",
     "output_type": "stream",
     "text": [
      "(25, 97, 3)\n",
      "(25, 3)\n",
      "[[0.9527317  0.03623134 0.01103695]\n",
      " [0.888196   0.08146258 0.0303415 ]\n",
      " [0.79951286 0.12992187 0.07056502]\n",
      " [0.71040523 0.1341465  0.15544823]\n",
      " [0.9519105  0.03419125 0.01389819]\n",
      " [0.96480757 0.03371675 0.00147583]\n",
      " [0.90478003 0.08884386 0.00637626]\n",
      " [0.7635564  0.21086483 0.02557887]\n",
      " [0.6019472  0.31284407 0.0852088 ]\n",
      " [0.62688494 0.2631061  0.11000893]\n",
      " [0.9564207  0.03621636 0.00736301]\n",
      " [0.90077907 0.09607657 0.00314439]\n",
      " [0.7451804  0.23423736 0.02058232]\n",
      " [0.5874601  0.33875126 0.07378855]\n",
      " [0.63822865 0.25341216 0.1083591 ]\n",
      " [0.94007397 0.04362794 0.0162982 ]\n",
      " [0.8171101  0.13781177 0.04507811]\n",
      " [0.65505415 0.2469052  0.09804066]\n",
      " [0.42379797 0.31383923 0.26236284]\n",
      " [0.6852772  0.2284191  0.0863036 ]\n",
      " [0.932794   0.05445866 0.01274741]\n",
      " [0.845888   0.11420401 0.03990816]\n",
      " [0.64559966 0.2452561  0.10914415]\n",
      " [0.4191903  0.31109953 0.26971018]\n",
      " [0.68454456 0.21166027 0.10379524]]\n"
     ]
    }
   ],
   "source": [
    "print(np.array(predictions).shape)\n",
    "averaged_data = np.mean(np.array(predictions), axis=1) \n",
    "print(averaged_data.shape) \n",
    "print(averaged_data)"
   ]
  },
  {
   "cell_type": "code",
   "execution_count": 8,
   "id": "0ffaf3a1-6b1f-4fba-84c6-33c4cc424edb",
   "metadata": {},
   "outputs": [],
   "source": [
    "submissions = pd.DataFrame(averaged_data)\n",
    "\n",
    "for i in range(len(labels)):\n",
    "    labels[i] = '44036939_' + labels[i]\n",
    "    \n",
    "submissions[3] = submissions[2]\n",
    "submissions[2] = submissions[1]\n",
    "submissions[1] = submissions[0]\n",
    "\n",
    "submissions[0] = labels"
   ]
  },
  {
   "cell_type": "code",
   "execution_count": 9,
   "id": "a66352f3-b332-4517-b222-6779d6a12013",
   "metadata": {},
   "outputs": [
    {
     "name": "stdout",
     "output_type": "stream",
     "text": [
      "                                                  0         1         2  \\\n",
      "0              44036939_spinal_canal_stenosis_l1_l2  0.952732  0.036231   \n",
      "1              44036939_spinal_canal_stenosis_l2_l3  0.888196  0.081463   \n",
      "2              44036939_spinal_canal_stenosis_l3_l4  0.799513  0.129922   \n",
      "3              44036939_spinal_canal_stenosis_l4_l5  0.710405  0.134146   \n",
      "4              44036939_spinal_canal_stenosis_l5_s1  0.951910  0.034191   \n",
      "5    44036939_left_neural_foraminal_narrowing_l1_l2  0.964808  0.033717   \n",
      "6    44036939_left_neural_foraminal_narrowing_l2_l3  0.904780  0.088844   \n",
      "7    44036939_left_neural_foraminal_narrowing_l3_l4  0.763556  0.210865   \n",
      "8    44036939_left_neural_foraminal_narrowing_l4_l5  0.601947  0.312844   \n",
      "9    44036939_left_neural_foraminal_narrowing_l5_s1  0.626885  0.263106   \n",
      "10  44036939_right_neural_foraminal_narrowing_l1_l2  0.956421  0.036216   \n",
      "11  44036939_right_neural_foraminal_narrowing_l2_l3  0.900779  0.096077   \n",
      "12  44036939_right_neural_foraminal_narrowing_l3_l4  0.745180  0.234237   \n",
      "13  44036939_right_neural_foraminal_narrowing_l4_l5  0.587460  0.338751   \n",
      "14  44036939_right_neural_foraminal_narrowing_l5_s1  0.638229  0.253412   \n",
      "15        44036939_left_subarticular_stenosis_l1_l2  0.940074  0.043628   \n",
      "16        44036939_left_subarticular_stenosis_l2_l3  0.817110  0.137812   \n",
      "17        44036939_left_subarticular_stenosis_l3_l4  0.655054  0.246905   \n",
      "18        44036939_left_subarticular_stenosis_l4_l5  0.423798  0.313839   \n",
      "19        44036939_left_subarticular_stenosis_l5_s1  0.685277  0.228419   \n",
      "20       44036939_right_subarticular_stenosis_l1_l2  0.932794  0.054459   \n",
      "21       44036939_right_subarticular_stenosis_l2_l3  0.845888  0.114204   \n",
      "22       44036939_right_subarticular_stenosis_l3_l4  0.645600  0.245256   \n",
      "23       44036939_right_subarticular_stenosis_l4_l5  0.419190  0.311100   \n",
      "24       44036939_right_subarticular_stenosis_l5_s1  0.684545  0.211660   \n",
      "\n",
      "           3  \n",
      "0   0.011037  \n",
      "1   0.030342  \n",
      "2   0.070565  \n",
      "3   0.155448  \n",
      "4   0.013898  \n",
      "5   0.001476  \n",
      "6   0.006376  \n",
      "7   0.025579  \n",
      "8   0.085209  \n",
      "9   0.110009  \n",
      "10  0.007363  \n",
      "11  0.003144  \n",
      "12  0.020582  \n",
      "13  0.073789  \n",
      "14  0.108359  \n",
      "15  0.016298  \n",
      "16  0.045078  \n",
      "17  0.098041  \n",
      "18  0.262363  \n",
      "19  0.086304  \n",
      "20  0.012747  \n",
      "21  0.039908  \n",
      "22  0.109144  \n",
      "23  0.269710  \n",
      "24  0.103795  \n"
     ]
    }
   ],
   "source": [
    "print(submissions)\n",
    "submissions.to_csv('output.csv', index=False)"
   ]
  }
 ],
 "metadata": {
  "kernelspec": {
   "display_name": "Python 3 (ipykernel)",
   "language": "python",
   "name": "python3"
  },
  "language_info": {
   "codemirror_mode": {
    "name": "ipython",
    "version": 3
   },
   "file_extension": ".py",
   "mimetype": "text/x-python",
   "name": "python",
   "nbconvert_exporter": "python",
   "pygments_lexer": "ipython3",
   "version": "3.10.10"
  }
 },
 "nbformat": 4,
 "nbformat_minor": 5
}
